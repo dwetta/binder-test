{
 "cells": [
  {
   "cell_type": "markdown",
   "metadata": {},
   "source": [
    "Working with Excel Files\n",
    "\n",
    "https://www.safaribooksonline.com/library/view/working-with-excel/9781491980026/ch01.html#introspecting_an_excel_workbook"
   ]
  },
  {
   "cell_type": "code",
   "execution_count": 1,
   "metadata": {
    "collapsed": false
   },
   "outputs": [
    {
     "name": "stdout",
     "output_type": "stream",
     "text": [
      "Number of worksheets: 3\n",
      "Worksheet name: january_2013 \tRows: 7 \tColumns: 5\n",
      "Worksheet name: february_2013 \tRows: 7 \tColumns: 5\n",
      "Worksheet name: march_2013 \tRows: 7 \tColumns: 5\n"
     ]
    }
   ],
   "source": [
    "import sys\n",
    "from xlrd import open_workbook\n",
    "input_file = \"sales_2013.xlsx\"\n",
    "workbook = open_workbook(input_file)\n",
    "print'Number of worksheets:', workbook.nsheets\n",
    "for worksheet in workbook.sheets():\n",
    "    print\"Worksheet name:\", worksheet.name, \"\\tRows:\",\\\n",
    "         worksheet.nrows, \"\\tColumns:\", worksheet.ncols"
   ]
  },
  {
   "cell_type": "markdown",
   "metadata": {},
   "source": [
    "Why does printing look unformatted, like in a terminal?\n",
    "NOTE: Old fashioned Python code here, () in print is deprecated (?)"
   ]
  },
  {
   "cell_type": "code",
   "execution_count": 2,
   "metadata": {
    "collapsed": false
   },
   "outputs": [],
   "source": [
    "import sys\n",
    "from xlrd import open_workbook\n",
    "from xlwt import Workbook\n",
    "input_file = \"sales_2013.xlsx\"\n",
    "#note output file is .xls NOT .xlsx\n",
    "output_file = \"sales_2013_output.xls\"\n",
    "output_workbook = Workbook()\n",
    "output_worksheet = output_workbook.add_sheet('jan_2013_output')\n",
    "with open_workbook(input_file) as workbook:\n",
    "    worksheet = workbook.sheet_by_name('january_2013')\n",
    "    for row_index in range(worksheet.nrows):\n",
    "        for column_index in range(worksheet.ncols):\n",
    "            output_worksheet.write(row_index, column_index, worksheet.cell_value(row_index, column_index))\n",
    "output_workbook.save(output_file)"
   ]
  },
  {
   "cell_type": "markdown",
   "metadata": {},
   "source": [
    "Next step, formatting cells (i.e. dates)"
   ]
  }
 ],
 "metadata": {
  "kernelspec": {
   "display_name": "Python 2",
   "language": "python",
   "name": "python2"
  },
  "language_info": {
   "codemirror_mode": {
    "name": "ipython",
    "version": 2
   },
   "file_extension": ".py",
   "mimetype": "text/x-python",
   "name": "python",
   "nbconvert_exporter": "python",
   "pygments_lexer": "ipython2",
   "version": "2.7.11"
  }
 },
 "nbformat": 4,
 "nbformat_minor": 2
}
